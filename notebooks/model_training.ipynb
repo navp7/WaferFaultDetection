{
 "cells": [
  {
   "cell_type": "markdown",
   "metadata": {},
   "source": [
    "# MODEL TRAINING:\n"
   ]
  },
  {
   "cell_type": "code",
   "execution_count": 78,
   "metadata": {},
   "outputs": [],
   "source": [
    "import pandas as pd\n",
    "import numpy as np\n",
    "\n",
    "from imblearn.combine import SMOTETomek\n",
    "from sklearn.impute import KNNImputer\n",
    "from sklearn.svm import SVC\n",
    "from sklearn.ensemble import RandomForestClassifier\n",
    "from sklearn.tree import DecisionTreeClassifier\n",
    "from sklearn.ensemble import GradientBoostingClassifier\n",
    "from sklearn.neighbors import KNeighborsClassifier\n",
    "from sklearn.ensemble import AdaBoostClassifier\n",
    "from xgboost import XGBClassifier\n",
    "from sklearn.model_selection import cross_val_score, cross_val_predict\n",
    "from sklearn.metrics import roc_auc_score, classification_report, confusion_matrix, accuracy_score\n",
    "from sklearn.preprocessing import RobustScaler\n",
    "from sklearn.pipeline import Pipeline\n",
    "from sklearn.model_selection import train_test_split\n",
    "from sklearn.model_selection import GridSearchCV\n"
   ]
  },
  {
   "cell_type": "code",
   "execution_count": 20,
   "metadata": {},
   "outputs": [],
   "source": [
    "df = pd.read_csv(\"filter.csv\")"
   ]
  },
  {
   "cell_type": "code",
   "execution_count": 21,
   "metadata": {},
   "outputs": [
    {
     "data": {
      "text/html": [
       "<div>\n",
       "<style scoped>\n",
       "    .dataframe tbody tr th:only-of-type {\n",
       "        vertical-align: middle;\n",
       "    }\n",
       "\n",
       "    .dataframe tbody tr th {\n",
       "        vertical-align: top;\n",
       "    }\n",
       "\n",
       "    .dataframe thead th {\n",
       "        text-align: right;\n",
       "    }\n",
       "</style>\n",
       "<table border=\"1\" class=\"dataframe\">\n",
       "  <thead>\n",
       "    <tr style=\"text-align: right;\">\n",
       "      <th></th>\n",
       "      <th>Sensor-1</th>\n",
       "      <th>Sensor-2</th>\n",
       "      <th>Sensor-3</th>\n",
       "      <th>Sensor-4</th>\n",
       "      <th>Sensor-5</th>\n",
       "      <th>Sensor-7</th>\n",
       "      <th>Sensor-8</th>\n",
       "      <th>Sensor-9</th>\n",
       "      <th>Sensor-10</th>\n",
       "      <th>Sensor-11</th>\n",
       "      <th>...</th>\n",
       "      <th>Sensor-582</th>\n",
       "      <th>Sensor-583</th>\n",
       "      <th>Sensor-584</th>\n",
       "      <th>Sensor-585</th>\n",
       "      <th>Sensor-586</th>\n",
       "      <th>Sensor-587</th>\n",
       "      <th>Sensor-588</th>\n",
       "      <th>Sensor-589</th>\n",
       "      <th>Sensor-590</th>\n",
       "      <th>Good/Bad</th>\n",
       "    </tr>\n",
       "  </thead>\n",
       "  <tbody>\n",
       "    <tr>\n",
       "      <th>0</th>\n",
       "      <td>2968.33</td>\n",
       "      <td>2476.58</td>\n",
       "      <td>2216.7333</td>\n",
       "      <td>1748.0885</td>\n",
       "      <td>1.1127</td>\n",
       "      <td>97.5822</td>\n",
       "      <td>0.1242</td>\n",
       "      <td>1.5300</td>\n",
       "      <td>-0.0279</td>\n",
       "      <td>-0.0040</td>\n",
       "      <td>...</td>\n",
       "      <td>NaN</td>\n",
       "      <td>0.5004</td>\n",
       "      <td>0.0120</td>\n",
       "      <td>0.0033</td>\n",
       "      <td>2.4069</td>\n",
       "      <td>0.0545</td>\n",
       "      <td>0.0184</td>\n",
       "      <td>0.0055</td>\n",
       "      <td>33.7876</td>\n",
       "      <td>-1</td>\n",
       "    </tr>\n",
       "    <tr>\n",
       "      <th>1</th>\n",
       "      <td>2961.04</td>\n",
       "      <td>2506.43</td>\n",
       "      <td>2170.0666</td>\n",
       "      <td>1364.5157</td>\n",
       "      <td>1.5447</td>\n",
       "      <td>96.7700</td>\n",
       "      <td>0.1230</td>\n",
       "      <td>1.3953</td>\n",
       "      <td>0.0084</td>\n",
       "      <td>0.0062</td>\n",
       "      <td>...</td>\n",
       "      <td>NaN</td>\n",
       "      <td>0.4994</td>\n",
       "      <td>0.0115</td>\n",
       "      <td>0.0031</td>\n",
       "      <td>2.3020</td>\n",
       "      <td>0.0545</td>\n",
       "      <td>0.0184</td>\n",
       "      <td>0.0055</td>\n",
       "      <td>33.7876</td>\n",
       "      <td>1</td>\n",
       "    </tr>\n",
       "    <tr>\n",
       "      <th>2</th>\n",
       "      <td>3072.03</td>\n",
       "      <td>2500.68</td>\n",
       "      <td>2205.7445</td>\n",
       "      <td>1363.1048</td>\n",
       "      <td>1.0518</td>\n",
       "      <td>101.8644</td>\n",
       "      <td>0.1220</td>\n",
       "      <td>1.3896</td>\n",
       "      <td>0.0138</td>\n",
       "      <td>0.0000</td>\n",
       "      <td>...</td>\n",
       "      <td>NaN</td>\n",
       "      <td>0.4987</td>\n",
       "      <td>0.0118</td>\n",
       "      <td>0.0036</td>\n",
       "      <td>2.3719</td>\n",
       "      <td>0.0545</td>\n",
       "      <td>0.0184</td>\n",
       "      <td>0.0055</td>\n",
       "      <td>33.7876</td>\n",
       "      <td>-1</td>\n",
       "    </tr>\n",
       "    <tr>\n",
       "      <th>3</th>\n",
       "      <td>3021.83</td>\n",
       "      <td>2419.83</td>\n",
       "      <td>2205.7445</td>\n",
       "      <td>1363.1048</td>\n",
       "      <td>1.0518</td>\n",
       "      <td>101.8644</td>\n",
       "      <td>0.1220</td>\n",
       "      <td>1.4108</td>\n",
       "      <td>-0.0046</td>\n",
       "      <td>-0.0024</td>\n",
       "      <td>...</td>\n",
       "      <td>NaN</td>\n",
       "      <td>0.4934</td>\n",
       "      <td>0.0123</td>\n",
       "      <td>0.0040</td>\n",
       "      <td>2.4923</td>\n",
       "      <td>0.0545</td>\n",
       "      <td>0.0184</td>\n",
       "      <td>0.0055</td>\n",
       "      <td>33.7876</td>\n",
       "      <td>-1</td>\n",
       "    </tr>\n",
       "    <tr>\n",
       "      <th>4</th>\n",
       "      <td>3006.95</td>\n",
       "      <td>2435.34</td>\n",
       "      <td>2189.8111</td>\n",
       "      <td>1084.6502</td>\n",
       "      <td>1.1993</td>\n",
       "      <td>104.8856</td>\n",
       "      <td>0.1234</td>\n",
       "      <td>1.5094</td>\n",
       "      <td>-0.0046</td>\n",
       "      <td>0.0121</td>\n",
       "      <td>...</td>\n",
       "      <td>NaN</td>\n",
       "      <td>0.4987</td>\n",
       "      <td>0.0145</td>\n",
       "      <td>0.0041</td>\n",
       "      <td>2.8991</td>\n",
       "      <td>0.0545</td>\n",
       "      <td>0.0184</td>\n",
       "      <td>0.0055</td>\n",
       "      <td>33.7876</td>\n",
       "      <td>-1</td>\n",
       "    </tr>\n",
       "  </tbody>\n",
       "</table>\n",
       "<p>5 rows × 465 columns</p>\n",
       "</div>"
      ],
      "text/plain": [
       "   Sensor-1  Sensor-2   Sensor-3   Sensor-4  Sensor-5  Sensor-7  Sensor-8  \\\n",
       "0   2968.33   2476.58  2216.7333  1748.0885    1.1127   97.5822    0.1242   \n",
       "1   2961.04   2506.43  2170.0666  1364.5157    1.5447   96.7700    0.1230   \n",
       "2   3072.03   2500.68  2205.7445  1363.1048    1.0518  101.8644    0.1220   \n",
       "3   3021.83   2419.83  2205.7445  1363.1048    1.0518  101.8644    0.1220   \n",
       "4   3006.95   2435.34  2189.8111  1084.6502    1.1993  104.8856    0.1234   \n",
       "\n",
       "   Sensor-9  Sensor-10  Sensor-11  ...  Sensor-582  Sensor-583  Sensor-584  \\\n",
       "0    1.5300    -0.0279    -0.0040  ...         NaN      0.5004      0.0120   \n",
       "1    1.3953     0.0084     0.0062  ...         NaN      0.4994      0.0115   \n",
       "2    1.3896     0.0138     0.0000  ...         NaN      0.4987      0.0118   \n",
       "3    1.4108    -0.0046    -0.0024  ...         NaN      0.4934      0.0123   \n",
       "4    1.5094    -0.0046     0.0121  ...         NaN      0.4987      0.0145   \n",
       "\n",
       "   Sensor-585  Sensor-586  Sensor-587  Sensor-588  Sensor-589  Sensor-590  \\\n",
       "0      0.0033      2.4069      0.0545      0.0184      0.0055     33.7876   \n",
       "1      0.0031      2.3020      0.0545      0.0184      0.0055     33.7876   \n",
       "2      0.0036      2.3719      0.0545      0.0184      0.0055     33.7876   \n",
       "3      0.0040      2.4923      0.0545      0.0184      0.0055     33.7876   \n",
       "4      0.0041      2.8991      0.0545      0.0184      0.0055     33.7876   \n",
       "\n",
       "   Good/Bad  \n",
       "0        -1  \n",
       "1         1  \n",
       "2        -1  \n",
       "3        -1  \n",
       "4        -1  \n",
       "\n",
       "[5 rows x 465 columns]"
      ]
     },
     "execution_count": 21,
     "metadata": {},
     "output_type": "execute_result"
    }
   ],
   "source": [
    "df.head()"
   ]
  },
  {
   "cell_type": "code",
   "execution_count": 22,
   "metadata": {},
   "outputs": [
    {
     "data": {
      "text/plain": [
       "(100, 465)"
      ]
     },
     "execution_count": 22,
     "metadata": {},
     "output_type": "execute_result"
    }
   ],
   "source": [
    "df.shape\n"
   ]
  },
  {
   "cell_type": "code",
   "execution_count": 132,
   "metadata": {},
   "outputs": [],
   "source": [
    "# Splitting Data\n",
    "train_data,test_data = train_test_split(df,test_size=0.20,random_state=85)"
   ]
  },
  {
   "cell_type": "code",
   "execution_count": 133,
   "metadata": {},
   "outputs": [
    {
     "data": {
      "text/plain": [
       "((80, 465), (20, 465))"
      ]
     },
     "execution_count": 133,
     "metadata": {},
     "output_type": "execute_result"
    }
   ],
   "source": [
    "train_data.shape,test_data.shape"
   ]
  },
  {
   "cell_type": "code",
   "execution_count": 134,
   "metadata": {},
   "outputs": [],
   "source": [
    "X_train_arr = train_data.drop(columns=\"Good/Bad\", axis =1)\n",
    "y_train_arr = train_data[\"Good/Bad\"]\n",
    "\n",
    "X_test_arr = test_data.drop(columns=\"Good/Bad\", axis =1)\n",
    "y_test_arr = test_data[\"Good/Bad\"]"
   ]
  },
  {
   "cell_type": "code",
   "execution_count": 135,
   "metadata": {},
   "outputs": [
    {
     "data": {
      "text/plain": [
       "((80, 464), (80,))"
      ]
     },
     "execution_count": 135,
     "metadata": {},
     "output_type": "execute_result"
    }
   ],
   "source": [
    "X_train_arr.shape,y_train_arr.shape"
   ]
  },
  {
   "cell_type": "code",
   "execution_count": 136,
   "metadata": {},
   "outputs": [
    {
     "data": {
      "text/plain": [
       "((20, 464), (20,))"
      ]
     },
     "execution_count": 136,
     "metadata": {},
     "output_type": "execute_result"
    }
   ],
   "source": [
    "X_test_arr.shape,y_test_arr.shape"
   ]
  },
  {
   "cell_type": "code",
   "execution_count": 137,
   "metadata": {},
   "outputs": [],
   "source": [
    "# Mapping Target column {-1:0}\n",
    "y_train_arr = np.where(y_train_arr==-1,0,1)\n",
    "y_test_arr = np.where(y_test_arr==-1,0,1)"
   ]
  },
  {
   "cell_type": "code",
   "execution_count": 138,
   "metadata": {},
   "outputs": [
    {
     "name": "stdout",
     "output_type": "stream",
     "text": [
      "[0 0 0 0 1 0 0 0 0 0 0 0 0 0 0 0 0 1 0 0] [0 0 0 0 0 0 1 0 1 0 0 0 0 0 0 0 0 0 0 1 0 0 0 0 0 0 0 0 0 0 0 0 0 0 0 0 1\n",
      " 0 0 0 0 0 0 0 0 0 0 0 0 0 0 0 0 0 0 0 0 0 0 0 0 0 0 0 0 0 0 0 0 0 0 0 0 0\n",
      " 0 0 0 0 0 0]\n"
     ]
    }
   ],
   "source": [
    "print(y_test_arr,y_train_arr)"
   ]
  },
  {
   "cell_type": "code",
   "execution_count": 139,
   "metadata": {},
   "outputs": [],
   "source": [
    "## Creating Pipeline\n",
    "\n",
    "feature_pipeline = Pipeline(\n",
    "    steps=[\n",
    "        ('imputer',KNNImputer(n_neighbors=3)),\n",
    "        ('scaler',RobustScaler())\n",
    "    ]\n",
    ")\n",
    "\n"
   ]
  },
  {
   "cell_type": "code",
   "execution_count": 140,
   "metadata": {},
   "outputs": [
    {
     "data": {
      "text/html": [
       "<style>#sk-container-id-4 {color: black;}#sk-container-id-4 pre{padding: 0;}#sk-container-id-4 div.sk-toggleable {background-color: white;}#sk-container-id-4 label.sk-toggleable__label {cursor: pointer;display: block;width: 100%;margin-bottom: 0;padding: 0.3em;box-sizing: border-box;text-align: center;}#sk-container-id-4 label.sk-toggleable__label-arrow:before {content: \"▸\";float: left;margin-right: 0.25em;color: #696969;}#sk-container-id-4 label.sk-toggleable__label-arrow:hover:before {color: black;}#sk-container-id-4 div.sk-estimator:hover label.sk-toggleable__label-arrow:before {color: black;}#sk-container-id-4 div.sk-toggleable__content {max-height: 0;max-width: 0;overflow: hidden;text-align: left;background-color: #f0f8ff;}#sk-container-id-4 div.sk-toggleable__content pre {margin: 0.2em;color: black;border-radius: 0.25em;background-color: #f0f8ff;}#sk-container-id-4 input.sk-toggleable__control:checked~div.sk-toggleable__content {max-height: 200px;max-width: 100%;overflow: auto;}#sk-container-id-4 input.sk-toggleable__control:checked~label.sk-toggleable__label-arrow:before {content: \"▾\";}#sk-container-id-4 div.sk-estimator input.sk-toggleable__control:checked~label.sk-toggleable__label {background-color: #d4ebff;}#sk-container-id-4 div.sk-label input.sk-toggleable__control:checked~label.sk-toggleable__label {background-color: #d4ebff;}#sk-container-id-4 input.sk-hidden--visually {border: 0;clip: rect(1px 1px 1px 1px);clip: rect(1px, 1px, 1px, 1px);height: 1px;margin: -1px;overflow: hidden;padding: 0;position: absolute;width: 1px;}#sk-container-id-4 div.sk-estimator {font-family: monospace;background-color: #f0f8ff;border: 1px dotted black;border-radius: 0.25em;box-sizing: border-box;margin-bottom: 0.5em;}#sk-container-id-4 div.sk-estimator:hover {background-color: #d4ebff;}#sk-container-id-4 div.sk-parallel-item::after {content: \"\";width: 100%;border-bottom: 1px solid gray;flex-grow: 1;}#sk-container-id-4 div.sk-label:hover label.sk-toggleable__label {background-color: #d4ebff;}#sk-container-id-4 div.sk-serial::before {content: \"\";position: absolute;border-left: 1px solid gray;box-sizing: border-box;top: 0;bottom: 0;left: 50%;z-index: 0;}#sk-container-id-4 div.sk-serial {display: flex;flex-direction: column;align-items: center;background-color: white;padding-right: 0.2em;padding-left: 0.2em;position: relative;}#sk-container-id-4 div.sk-item {position: relative;z-index: 1;}#sk-container-id-4 div.sk-parallel {display: flex;align-items: stretch;justify-content: center;background-color: white;position: relative;}#sk-container-id-4 div.sk-item::before, #sk-container-id-4 div.sk-parallel-item::before {content: \"\";position: absolute;border-left: 1px solid gray;box-sizing: border-box;top: 0;bottom: 0;left: 50%;z-index: -1;}#sk-container-id-4 div.sk-parallel-item {display: flex;flex-direction: column;z-index: 1;position: relative;background-color: white;}#sk-container-id-4 div.sk-parallel-item:first-child::after {align-self: flex-end;width: 50%;}#sk-container-id-4 div.sk-parallel-item:last-child::after {align-self: flex-start;width: 50%;}#sk-container-id-4 div.sk-parallel-item:only-child::after {width: 0;}#sk-container-id-4 div.sk-dashed-wrapped {border: 1px dashed gray;margin: 0 0.4em 0.5em 0.4em;box-sizing: border-box;padding-bottom: 0.4em;background-color: white;}#sk-container-id-4 div.sk-label label {font-family: monospace;font-weight: bold;display: inline-block;line-height: 1.2em;}#sk-container-id-4 div.sk-label-container {text-align: center;}#sk-container-id-4 div.sk-container {/* jupyter's `normalize.less` sets `[hidden] { display: none; }` but bootstrap.min.css set `[hidden] { display: none !important; }` so we also need the `!important` here to be able to override the default hidden behavior on the sphinx rendered scikit-learn.org. See: https://github.com/scikit-learn/scikit-learn/issues/21755 */display: inline-block !important;position: relative;}#sk-container-id-4 div.sk-text-repr-fallback {display: none;}</style><div id=\"sk-container-id-4\" class=\"sk-top-container\"><div class=\"sk-text-repr-fallback\"><pre>Pipeline(steps=[(&#x27;imputer&#x27;, KNNImputer(n_neighbors=3)),\n",
       "                (&#x27;scaler&#x27;, RobustScaler())])</pre><b>In a Jupyter environment, please rerun this cell to show the HTML representation or trust the notebook. <br />On GitHub, the HTML representation is unable to render, please try loading this page with nbviewer.org.</b></div><div class=\"sk-container\" hidden><div class=\"sk-item sk-dashed-wrapped\"><div class=\"sk-label-container\"><div class=\"sk-label sk-toggleable\"><input class=\"sk-toggleable__control sk-hidden--visually\" id=\"sk-estimator-id-10\" type=\"checkbox\" ><label for=\"sk-estimator-id-10\" class=\"sk-toggleable__label sk-toggleable__label-arrow\">Pipeline</label><div class=\"sk-toggleable__content\"><pre>Pipeline(steps=[(&#x27;imputer&#x27;, KNNImputer(n_neighbors=3)),\n",
       "                (&#x27;scaler&#x27;, RobustScaler())])</pre></div></div></div><div class=\"sk-serial\"><div class=\"sk-item\"><div class=\"sk-estimator sk-toggleable\"><input class=\"sk-toggleable__control sk-hidden--visually\" id=\"sk-estimator-id-11\" type=\"checkbox\" ><label for=\"sk-estimator-id-11\" class=\"sk-toggleable__label sk-toggleable__label-arrow\">KNNImputer</label><div class=\"sk-toggleable__content\"><pre>KNNImputer(n_neighbors=3)</pre></div></div></div><div class=\"sk-item\"><div class=\"sk-estimator sk-toggleable\"><input class=\"sk-toggleable__control sk-hidden--visually\" id=\"sk-estimator-id-12\" type=\"checkbox\" ><label for=\"sk-estimator-id-12\" class=\"sk-toggleable__label sk-toggleable__label-arrow\">RobustScaler</label><div class=\"sk-toggleable__content\"><pre>RobustScaler()</pre></div></div></div></div></div></div></div>"
      ],
      "text/plain": [
       "Pipeline(steps=[('imputer', KNNImputer(n_neighbors=3)),\n",
       "                ('scaler', RobustScaler())])"
      ]
     },
     "execution_count": 140,
     "metadata": {},
     "output_type": "execute_result"
    }
   ],
   "source": [
    "feature_pipeline"
   ]
  },
  {
   "cell_type": "code",
   "execution_count": 141,
   "metadata": {},
   "outputs": [],
   "source": [
    "X_train_new = feature_pipeline.fit_transform(X_train_arr)\n",
    "X_test_new = feature_pipeline.transform(X_test_arr)\n",
    "\n"
   ]
  },
  {
   "cell_type": "code",
   "execution_count": 142,
   "metadata": {},
   "outputs": [
    {
     "data": {
      "text/plain": [
       "(array([[ 1.11006084, -1.32056635,  0.23117758, ..., -0.46315789,\n",
       "         -0.37931034, -0.11358926],\n",
       "        [ 0.44943468, -0.08719066,  0.19691686, ...,  0.92631579,\n",
       "          0.68965517,  0.31068481],\n",
       "        [ 0.83285897,  0.04568282, -0.05436812, ...,  1.29473684,\n",
       "          1.72413793,  2.37220594],\n",
       "        ...,\n",
       "        [-0.23490091, -0.23410177,  4.7004079 , ..., -0.95789474,\n",
       "         -0.75862069, -0.40590176],\n",
       "        [-0.56860851, -0.68693653,  0.51627507, ..., -0.73684211,\n",
       "         -0.48275862, -0.56077845],\n",
       "        [-0.01712928,  0.49984873,  0.40388332, ..., -0.27368421,\n",
       "         -0.03448276,  0.7984325 ]]),\n",
       " array([[ 1.15956863e+00, -1.11605252e+00,  4.89777708e-01, ...,\n",
       "          1.29473684e+00,  1.72413793e+00,  2.37220594e+00],\n",
       "        [ 1.71292791e-02,  9.22914019e-01,  5.03939242e-01, ...,\n",
       "          1.05263158e-01,  2.75862069e-01,  2.44727886e-01],\n",
       "        [-8.73488785e-01,  2.36643069e-01, -4.76985452e-01, ...,\n",
       "          1.29473684e+00,  1.72413793e+00,  2.37220594e+00],\n",
       "        ...,\n",
       "        [-5.98166958e-01, -1.97313487e-01,  1.36927720e-03, ...,\n",
       "         -7.36842105e-01, -4.82758621e-01, -5.60778455e-01],\n",
       "        [ 3.04358044e-01, -7.86652145e-01,  7.84924793e-01, ...,\n",
       "         -4.63157895e-01, -6.89655172e-02, -1.63421418e-01],\n",
       "        [-2.37512077e-01, -2.59877776e-01, -3.54815086e+00, ...,\n",
       "         -1.89473684e-01, -2.41379310e-01, -1.30075598e-01]]))"
      ]
     },
     "execution_count": 142,
     "metadata": {},
     "output_type": "execute_result"
    }
   ],
   "source": [
    "X_test_new,X_train_new"
   ]
  },
  {
   "cell_type": "code",
   "execution_count": 143,
   "metadata": {},
   "outputs": [],
   "source": [
    "# Upsampling the imbalance feature:\n",
    "\n",
    "from imblearn.over_sampling import RandomOverSampler\n",
    "\n",
    "ros = RandomOverSampler(sampling_strategy='auto', random_state=42)\n",
    "X_train_res, y_train_res = ros.fit_resample(X_train_new, y_train_arr)\n",
    "X_test_res, y_test_res = ros.fit_resample(X_test_new, y_test_arr)"
   ]
  },
  {
   "cell_type": "code",
   "execution_count": 144,
   "metadata": {},
   "outputs": [
    {
     "name": "stdout",
     "output_type": "stream",
     "text": [
      "(152, 464) (152,)\n",
      "(36, 464) (36,)\n"
     ]
    }
   ],
   "source": [
    "print(X_train_res.shape,y_train_res.shape)\n",
    "print(X_test_res.shape,y_test_res.shape)"
   ]
  },
  {
   "cell_type": "markdown",
   "metadata": {},
   "source": [
    "After resampling we got equal number of 1 and 0 for the target feature of train and test data set."
   ]
  },
  {
   "cell_type": "code",
   "execution_count": 145,
   "metadata": {},
   "outputs": [],
   "source": [
    "#y_train_res.value_counts()\n",
    "unique_values, counts = np.unique(y_train_res, return_counts=True)"
   ]
  },
  {
   "cell_type": "code",
   "execution_count": 146,
   "metadata": {},
   "outputs": [
    {
     "name": "stdout",
     "output_type": "stream",
     "text": [
      "[0 1] [76 76]\n"
     ]
    }
   ],
   "source": [
    "print(unique_values,counts)"
   ]
  },
  {
   "cell_type": "code",
   "execution_count": 147,
   "metadata": {},
   "outputs": [],
   "source": [
    "X_train,X_test,y_train,y_test = (X_train_res,X_test_res,y_train_res,y_test_res)"
   ]
  },
  {
   "cell_type": "code",
   "execution_count": 148,
   "metadata": {},
   "outputs": [
    {
     "name": "stdout",
     "output_type": "stream",
     "text": [
      "(152, 464) (36, 464)\n",
      "(152,) (36,)\n"
     ]
    }
   ],
   "source": [
    "print(X_train.shape,X_test.shape)\n",
    "\n",
    "print(y_train.shape,y_test.shape)"
   ]
  },
  {
   "cell_type": "markdown",
   "metadata": {},
   "source": [
    "# Model Selection and Model Training:"
   ]
  },
  {
   "cell_type": "code",
   "execution_count": 149,
   "metadata": {},
   "outputs": [],
   "source": [
    "def evaluate_model(true, predicted):\n",
    "    cl_report = classification_report(true, predicted)\n",
    "    con_mat = confusion_matrix(true, predicted)\n",
    "    roc_score = roc_auc_score(true,predicted)*100\n",
    "    acc_score = accuracy_score(true, predicted)*100\n",
    "    return cl_report, con_mat,roc_score, acc_score"
   ]
  },
  {
   "cell_type": "code",
   "execution_count": 194,
   "metadata": {},
   "outputs": [],
   "source": [
    "# List of Models used:\n",
    "models = {  \"Random Forest\": RandomForestClassifier(),\n",
    "            \"Decision Tree\": DecisionTreeClassifier(),\n",
    "            \"Gradient Boosting\": GradientBoostingClassifier(),\n",
    "            \"K-Neighbors Classifier\": KNeighborsClassifier(),\n",
    "            \"XGBClassifier\": XGBClassifier(),\n",
    "            \"AdaBoost Classifier\": AdaBoostClassifier()\n",
    "}\n"
   ]
  },
  {
   "cell_type": "code",
   "execution_count": 201,
   "metadata": {},
   "outputs": [],
   "source": [
    "# Model Training and performance evaluation:\n",
    "\n",
    "def training(models):\n",
    "    perf = {}\n",
    "\n",
    "    for i in range(len(list(models))):\n",
    "        model=list(models.values())[i]\n",
    "        model.fit(X_train,y_train)\n",
    "\n",
    "        #Make Predictions\n",
    "        y_train_pred1 = model.predict(X_train)\n",
    "        y_test_pred1=model.predict(X_test)\n",
    "\n",
    "        # Computing scores\n",
    "        cl_report1, con_mat1,roc_score1, acc_score1 = evaluate_model(y_test, y_test_pred1)\n",
    "\n",
    "        train_score=accuracy_score(y_train,y_train_pred1)*100\n",
    "\n",
    "        # Storing scores in Dict:\n",
    "        perf[list(models.keys())[i]] = train_score,acc_score1,roc_score1,cl_report1,con_mat1\n",
    "    \n",
    "    cols = ['Train Accuracy','Test Accuracy','ROC','Classification','Confusion']\n",
    "\n",
    "    #Converting result into dataframe\n",
    "    perf_df = pd.DataFrame.from_dict(perf,orient='index', columns=cols)\n",
    "    perf_df = perf_df.transpose()\n",
    "\n",
    "    return perf_df\n",
    "    "
   ]
  },
  {
   "cell_type": "code",
   "execution_count": 202,
   "metadata": {},
   "outputs": [
    {
     "name": "stderr",
     "output_type": "stream",
     "text": [
      "c:\\Navneet\\Data Science\\ML Projects\\WaferFaultDetection1\\venv\\lib\\site-packages\\sklearn\\metrics\\_classification.py:1471: UndefinedMetricWarning: Precision and F-score are ill-defined and being set to 0.0 in labels with no predicted samples. Use `zero_division` parameter to control this behavior.\n",
      "  _warn_prf(average, modifier, msg_start, len(result))\n",
      "c:\\Navneet\\Data Science\\ML Projects\\WaferFaultDetection1\\venv\\lib\\site-packages\\sklearn\\metrics\\_classification.py:1471: UndefinedMetricWarning: Precision and F-score are ill-defined and being set to 0.0 in labels with no predicted samples. Use `zero_division` parameter to control this behavior.\n",
      "  _warn_prf(average, modifier, msg_start, len(result))\n",
      "c:\\Navneet\\Data Science\\ML Projects\\WaferFaultDetection1\\venv\\lib\\site-packages\\sklearn\\metrics\\_classification.py:1471: UndefinedMetricWarning: Precision and F-score are ill-defined and being set to 0.0 in labels with no predicted samples. Use `zero_division` parameter to control this behavior.\n",
      "  _warn_prf(average, modifier, msg_start, len(result))\n",
      "c:\\Navneet\\Data Science\\ML Projects\\WaferFaultDetection1\\venv\\lib\\site-packages\\sklearn\\metrics\\_classification.py:1471: UndefinedMetricWarning: Precision and F-score are ill-defined and being set to 0.0 in labels with no predicted samples. Use `zero_division` parameter to control this behavior.\n",
      "  _warn_prf(average, modifier, msg_start, len(result))\n",
      "c:\\Navneet\\Data Science\\ML Projects\\WaferFaultDetection1\\venv\\lib\\site-packages\\sklearn\\metrics\\_classification.py:1471: UndefinedMetricWarning: Precision and F-score are ill-defined and being set to 0.0 in labels with no predicted samples. Use `zero_division` parameter to control this behavior.\n",
      "  _warn_prf(average, modifier, msg_start, len(result))\n",
      "c:\\Navneet\\Data Science\\ML Projects\\WaferFaultDetection1\\venv\\lib\\site-packages\\sklearn\\metrics\\_classification.py:1471: UndefinedMetricWarning: Precision and F-score are ill-defined and being set to 0.0 in labels with no predicted samples. Use `zero_division` parameter to control this behavior.\n",
      "  _warn_prf(average, modifier, msg_start, len(result))\n",
      "c:\\Navneet\\Data Science\\ML Projects\\WaferFaultDetection1\\venv\\lib\\site-packages\\sklearn\\metrics\\_classification.py:1471: UndefinedMetricWarning: Precision and F-score are ill-defined and being set to 0.0 in labels with no predicted samples. Use `zero_division` parameter to control this behavior.\n",
      "  _warn_prf(average, modifier, msg_start, len(result))\n",
      "c:\\Navneet\\Data Science\\ML Projects\\WaferFaultDetection1\\venv\\lib\\site-packages\\sklearn\\metrics\\_classification.py:1471: UndefinedMetricWarning: Precision and F-score are ill-defined and being set to 0.0 in labels with no predicted samples. Use `zero_division` parameter to control this behavior.\n",
      "  _warn_prf(average, modifier, msg_start, len(result))\n",
      "c:\\Navneet\\Data Science\\ML Projects\\WaferFaultDetection1\\venv\\lib\\site-packages\\sklearn\\metrics\\_classification.py:1471: UndefinedMetricWarning: Precision and F-score are ill-defined and being set to 0.0 in labels with no predicted samples. Use `zero_division` parameter to control this behavior.\n",
      "  _warn_prf(average, modifier, msg_start, len(result))\n"
     ]
    }
   ],
   "source": [
    "result_df = training(models=models)"
   ]
  },
  {
   "cell_type": "code",
   "execution_count": 203,
   "metadata": {},
   "outputs": [
    {
     "data": {
      "text/html": [
       "<div>\n",
       "<style scoped>\n",
       "    .dataframe tbody tr th:only-of-type {\n",
       "        vertical-align: middle;\n",
       "    }\n",
       "\n",
       "    .dataframe tbody tr th {\n",
       "        vertical-align: top;\n",
       "    }\n",
       "\n",
       "    .dataframe thead th {\n",
       "        text-align: right;\n",
       "    }\n",
       "</style>\n",
       "<table border=\"1\" class=\"dataframe\">\n",
       "  <thead>\n",
       "    <tr style=\"text-align: right;\">\n",
       "      <th></th>\n",
       "      <th>Random Forest</th>\n",
       "      <th>Decision Tree</th>\n",
       "      <th>Gradient Boosting</th>\n",
       "      <th>K-Neighbors Classifier</th>\n",
       "      <th>XGBClassifier</th>\n",
       "      <th>AdaBoost Classifier</th>\n",
       "    </tr>\n",
       "  </thead>\n",
       "  <tbody>\n",
       "    <tr>\n",
       "      <th>Train Accuracy</th>\n",
       "      <td>100.0</td>\n",
       "      <td>100.0</td>\n",
       "      <td>100.0</td>\n",
       "      <td>94.078947</td>\n",
       "      <td>100.0</td>\n",
       "      <td>100.0</td>\n",
       "    </tr>\n",
       "    <tr>\n",
       "      <th>Test Accuracy</th>\n",
       "      <td>50.0</td>\n",
       "      <td>58.333333</td>\n",
       "      <td>58.333333</td>\n",
       "      <td>94.444444</td>\n",
       "      <td>50.0</td>\n",
       "      <td>50.0</td>\n",
       "    </tr>\n",
       "    <tr>\n",
       "      <th>ROC</th>\n",
       "      <td>50.0</td>\n",
       "      <td>58.333333</td>\n",
       "      <td>58.333333</td>\n",
       "      <td>94.444444</td>\n",
       "      <td>50.0</td>\n",
       "      <td>50.0</td>\n",
       "    </tr>\n",
       "    <tr>\n",
       "      <th>Classification</th>\n",
       "      <td>precision    recall  f1-score   ...</td>\n",
       "      <td>precision    recall  f1-score   ...</td>\n",
       "      <td>precision    recall  f1-score   ...</td>\n",
       "      <td>precision    recall  f1-score   ...</td>\n",
       "      <td>precision    recall  f1-score   ...</td>\n",
       "      <td>precision    recall  f1-score   ...</td>\n",
       "    </tr>\n",
       "    <tr>\n",
       "      <th>Confusion</th>\n",
       "      <td>[[18, 0], [18, 0]]</td>\n",
       "      <td>[[16, 2], [13, 5]]</td>\n",
       "      <td>[[16, 2], [13, 5]]</td>\n",
       "      <td>[[16, 2], [0, 18]]</td>\n",
       "      <td>[[18, 0], [18, 0]]</td>\n",
       "      <td>[[18, 0], [18, 0]]</td>\n",
       "    </tr>\n",
       "  </tbody>\n",
       "</table>\n",
       "</div>"
      ],
      "text/plain": [
       "                                                    Random Forest  \\\n",
       "Train Accuracy                                              100.0   \n",
       "Test Accuracy                                                50.0   \n",
       "ROC                                                          50.0   \n",
       "Classification                precision    recall  f1-score   ...   \n",
       "Confusion                                      [[18, 0], [18, 0]]   \n",
       "\n",
       "                                                    Decision Tree  \\\n",
       "Train Accuracy                                              100.0   \n",
       "Test Accuracy                                           58.333333   \n",
       "ROC                                                     58.333333   \n",
       "Classification                precision    recall  f1-score   ...   \n",
       "Confusion                                      [[16, 2], [13, 5]]   \n",
       "\n",
       "                                                Gradient Boosting  \\\n",
       "Train Accuracy                                              100.0   \n",
       "Test Accuracy                                           58.333333   \n",
       "ROC                                                     58.333333   \n",
       "Classification                precision    recall  f1-score   ...   \n",
       "Confusion                                      [[16, 2], [13, 5]]   \n",
       "\n",
       "                                           K-Neighbors Classifier  \\\n",
       "Train Accuracy                                          94.078947   \n",
       "Test Accuracy                                           94.444444   \n",
       "ROC                                                     94.444444   \n",
       "Classification                precision    recall  f1-score   ...   \n",
       "Confusion                                      [[16, 2], [0, 18]]   \n",
       "\n",
       "                                                    XGBClassifier  \\\n",
       "Train Accuracy                                              100.0   \n",
       "Test Accuracy                                                50.0   \n",
       "ROC                                                          50.0   \n",
       "Classification                precision    recall  f1-score   ...   \n",
       "Confusion                                      [[18, 0], [18, 0]]   \n",
       "\n",
       "                                              AdaBoost Classifier  \n",
       "Train Accuracy                                              100.0  \n",
       "Test Accuracy                                                50.0  \n",
       "ROC                                                          50.0  \n",
       "Classification                precision    recall  f1-score   ...  \n",
       "Confusion                                      [[18, 0], [18, 0]]  "
      ]
     },
     "execution_count": 203,
     "metadata": {},
     "output_type": "execute_result"
    }
   ],
   "source": [
    "result_df"
   ]
  },
  {
   "cell_type": "code",
   "execution_count": 204,
   "metadata": {},
   "outputs": [
    {
     "name": "stdout",
     "output_type": "stream",
     "text": [
      "Train Accuracy: 94.07894736842105\n",
      "\n",
      "Test Accuracy: 94.44444444444444\n",
      "\n",
      "ROC: 94.44444444444444\n",
      "\n",
      "Classification:               precision    recall  f1-score   support\n",
      "\n",
      "           0       1.00      0.89      0.94        18\n",
      "           1       0.90      1.00      0.95        18\n",
      "\n",
      "    accuracy                           0.94        36\n",
      "   macro avg       0.95      0.94      0.94        36\n",
      "weighted avg       0.95      0.94      0.94        36\n",
      "\n",
      "\n",
      "Confusion: [[16  2]\n",
      " [ 0 18]]\n",
      "\n"
     ]
    }
   ],
   "source": [
    "# Display results for best Model:\n",
    "for index, row in result_df.iterrows():\n",
    "    print(f\"{index}: {row['K-Neighbors Classifier']}\\n\")"
   ]
  },
  {
   "cell_type": "markdown",
   "metadata": {},
   "source": [
    "It can be seen that K-Neighbors Classifiers outperform over every model with a highest train and test accuracy. Although we can perform hyperparameter tunning and check for the change in accuracy."
   ]
  },
  {
   "cell_type": "code",
   "execution_count": 215,
   "metadata": {},
   "outputs": [],
   "source": [
    "# list of parameters for every model:\n",
    "params={\n",
    "    \"Random Forest\": {\n",
    "        'criterion':['gini', 'entropy'],\n",
    "            'n_estimators':[32,70,90,100,120,150],\n",
    "            'max_features':['sqrt','log2'],\n",
    "    },\n",
    "    \"Decision Tree\":{\n",
    "        'criterion':['gini', 'entropy'],\n",
    "        'max_features':['sqrt','log2', None],\n",
    "        'splitter': ['best','random']\n",
    "    },\n",
    "    \"Gradient Boosting\":{\n",
    "        'loss':['log_loss', 'exponential'],\n",
    "        'learning_rate':[0.001,0.01,0.1,0.05,0.005],\n",
    "        'n_estimators':[32,70,100,120,150],\n",
    "        'criterion':['friedman_mse', 'squared_error']\n",
    "    },\n",
    "    \"K-Neighbors Classifier\":{\n",
    "        'n_neighbors':[3,5,8,12,15],\n",
    "        'weights':['uniform', 'distance']\n",
    "    },\n",
    "\n",
    "    \"XGBClassifier\":{\n",
    "        'booster':['gbtree', 'gblinear','dart']\n",
    "    },\n",
    "    \"AdaBoost Classifier\":{\n",
    "        'algorithm':['SAMME', 'SAMME.R'],\n",
    "        'learning_rate':[0.001,0.01,0.1,0.05],\n",
    "        'n_estimators':[20,32,70,100]\n",
    "    }}\n",
    "\n"
   ]
  },
  {
   "cell_type": "code",
   "execution_count": 220,
   "metadata": {},
   "outputs": [],
   "source": [
    "# Final Evaluation with Hyperparameter tunning :\n",
    "\n",
    "def hyp_training(models,params):\n",
    "    report={}\n",
    "        \n",
    "    for i in range(len(list(models))):\n",
    "        model=list(models.values())[i]\n",
    "        param=params[list(models.keys())[i]]\n",
    "        gs = GridSearchCV(estimator=model,param_grid=param, cv=3)\n",
    "        #randomcv.fit(X_train,y_train)\n",
    "        gs.fit(X_train,y_train)\n",
    "\n",
    "        model.set_params(**gs.best_params_)\n",
    "        model.fit(X_train,y_train)\n",
    "\n",
    "        #Make Predictions\n",
    "        y_train_pred = model.predict(X_train)\n",
    "        y_test_pred=model.predict(X_test)\n",
    "\n",
    "        # print('Model Training Performance')\n",
    "        cl_report, con_mat,roc_score, test_acc_score = evaluate_model(y_test, y_test_pred)\n",
    "        train_acc_score = accuracy_score(y_train,y_train_pred)*100\n",
    "\n",
    "        report[list(models.keys())[i]] = train_acc_score,test_acc_score,roc_score,cl_report,con_mat\n",
    "\n",
    "    cols = ['Train Accuracy','Test Accuracy','ROC','Classification','Confusion']\n",
    "\n",
    "    report_df = pd.DataFrame.from_dict(report,orient='index', columns=cols)\n",
    "    report_df = report_df.transpose()\n",
    "\n",
    "    return report_df\n",
    "\n",
    "        "
   ]
  },
  {
   "cell_type": "code",
   "execution_count": 221,
   "metadata": {},
   "outputs": [
    {
     "name": "stderr",
     "output_type": "stream",
     "text": [
      "c:\\Navneet\\Data Science\\ML Projects\\WaferFaultDetection1\\venv\\lib\\site-packages\\sklearn\\metrics\\_classification.py:1471: UndefinedMetricWarning: Precision and F-score are ill-defined and being set to 0.0 in labels with no predicted samples. Use `zero_division` parameter to control this behavior.\n",
      "  _warn_prf(average, modifier, msg_start, len(result))\n",
      "c:\\Navneet\\Data Science\\ML Projects\\WaferFaultDetection1\\venv\\lib\\site-packages\\sklearn\\metrics\\_classification.py:1471: UndefinedMetricWarning: Precision and F-score are ill-defined and being set to 0.0 in labels with no predicted samples. Use `zero_division` parameter to control this behavior.\n",
      "  _warn_prf(average, modifier, msg_start, len(result))\n",
      "c:\\Navneet\\Data Science\\ML Projects\\WaferFaultDetection1\\venv\\lib\\site-packages\\sklearn\\metrics\\_classification.py:1471: UndefinedMetricWarning: Precision and F-score are ill-defined and being set to 0.0 in labels with no predicted samples. Use `zero_division` parameter to control this behavior.\n",
      "  _warn_prf(average, modifier, msg_start, len(result))\n",
      "c:\\Navneet\\Data Science\\ML Projects\\WaferFaultDetection1\\venv\\lib\\site-packages\\sklearn\\metrics\\_classification.py:1471: UndefinedMetricWarning: Precision and F-score are ill-defined and being set to 0.0 in labels with no predicted samples. Use `zero_division` parameter to control this behavior.\n",
      "  _warn_prf(average, modifier, msg_start, len(result))\n",
      "c:\\Navneet\\Data Science\\ML Projects\\WaferFaultDetection1\\venv\\lib\\site-packages\\sklearn\\metrics\\_classification.py:1471: UndefinedMetricWarning: Precision and F-score are ill-defined and being set to 0.0 in labels with no predicted samples. Use `zero_division` parameter to control this behavior.\n",
      "  _warn_prf(average, modifier, msg_start, len(result))\n",
      "c:\\Navneet\\Data Science\\ML Projects\\WaferFaultDetection1\\venv\\lib\\site-packages\\sklearn\\metrics\\_classification.py:1471: UndefinedMetricWarning: Precision and F-score are ill-defined and being set to 0.0 in labels with no predicted samples. Use `zero_division` parameter to control this behavior.\n",
      "  _warn_prf(average, modifier, msg_start, len(result))\n"
     ]
    },
    {
     "name": "stdout",
     "output_type": "stream",
     "text": [
      "[23:05:11] WARNING: C:/Users/administrator/workspace/xgboost-win64_release_1.6.0/src/learner.cc:627: \n",
      "Parameters: { \"colsample_bylevel\", \"colsample_bynode\", \"colsample_bytree\", \"gamma\", \"grow_policy\", \"interaction_constraints\", \"max_bin\", \"max_cat_to_onehot\", \"max_delta_step\", \"max_depth\", \"max_leaves\", \"min_child_weight\", \"monotone_constraints\", \"num_parallel_tree\", \"predictor\", \"sampling_method\", \"subsample\", \"tree_method\" } might not be used.\n",
      "\n",
      "  This could be a false alarm, with some parameters getting used by language bindings but\n",
      "  then being mistakenly passed down to XGBoost core, or some parameter actually being used\n",
      "  but getting flagged wrongly here. Please open an issue if you find any such cases.\n",
      "\n",
      "\n",
      "[23:05:11] WARNING: C:/Users/administrator/workspace/xgboost-win64_release_1.6.0/src/learner.cc:627: \n",
      "Parameters: { \"colsample_bylevel\", \"colsample_bynode\", \"colsample_bytree\", \"gamma\", \"grow_policy\", \"interaction_constraints\", \"max_bin\", \"max_cat_to_onehot\", \"max_delta_step\", \"max_depth\", \"max_leaves\", \"min_child_weight\", \"monotone_constraints\", \"num_parallel_tree\", \"predictor\", \"sampling_method\", \"subsample\", \"tree_method\" } might not be used.\n",
      "\n",
      "  This could be a false alarm, with some parameters getting used by language bindings but\n",
      "  then being mistakenly passed down to XGBoost core, or some parameter actually being used\n",
      "  but getting flagged wrongly here. Please open an issue if you find any such cases.\n",
      "\n",
      "\n",
      "[23:05:11] WARNING: C:/Users/administrator/workspace/xgboost-win64_release_1.6.0/src/learner.cc:627: \n",
      "Parameters: { \"colsample_bylevel\", \"colsample_bynode\", \"colsample_bytree\", \"gamma\", \"grow_policy\", \"interaction_constraints\", \"max_bin\", \"max_cat_to_onehot\", \"max_delta_step\", \"max_depth\", \"max_leaves\", \"min_child_weight\", \"monotone_constraints\", \"num_parallel_tree\", \"predictor\", \"sampling_method\", \"subsample\", \"tree_method\" } might not be used.\n",
      "\n",
      "  This could be a false alarm, with some parameters getting used by language bindings but\n",
      "  then being mistakenly passed down to XGBoost core, or some parameter actually being used\n",
      "  but getting flagged wrongly here. Please open an issue if you find any such cases.\n",
      "\n",
      "\n"
     ]
    },
    {
     "name": "stderr",
     "output_type": "stream",
     "text": [
      "c:\\Navneet\\Data Science\\ML Projects\\WaferFaultDetection1\\venv\\lib\\site-packages\\sklearn\\metrics\\_classification.py:1471: UndefinedMetricWarning: Precision and F-score are ill-defined and being set to 0.0 in labels with no predicted samples. Use `zero_division` parameter to control this behavior.\n",
      "  _warn_prf(average, modifier, msg_start, len(result))\n",
      "c:\\Navneet\\Data Science\\ML Projects\\WaferFaultDetection1\\venv\\lib\\site-packages\\sklearn\\metrics\\_classification.py:1471: UndefinedMetricWarning: Precision and F-score are ill-defined and being set to 0.0 in labels with no predicted samples. Use `zero_division` parameter to control this behavior.\n",
      "  _warn_prf(average, modifier, msg_start, len(result))\n",
      "c:\\Navneet\\Data Science\\ML Projects\\WaferFaultDetection1\\venv\\lib\\site-packages\\sklearn\\metrics\\_classification.py:1471: UndefinedMetricWarning: Precision and F-score are ill-defined and being set to 0.0 in labels with no predicted samples. Use `zero_division` parameter to control this behavior.\n",
      "  _warn_prf(average, modifier, msg_start, len(result))\n",
      "c:\\Navneet\\Data Science\\ML Projects\\WaferFaultDetection1\\venv\\lib\\site-packages\\sklearn\\metrics\\_classification.py:1471: UndefinedMetricWarning: Precision and F-score are ill-defined and being set to 0.0 in labels with no predicted samples. Use `zero_division` parameter to control this behavior.\n",
      "  _warn_prf(average, modifier, msg_start, len(result))\n",
      "c:\\Navneet\\Data Science\\ML Projects\\WaferFaultDetection1\\venv\\lib\\site-packages\\sklearn\\metrics\\_classification.py:1471: UndefinedMetricWarning: Precision and F-score are ill-defined and being set to 0.0 in labels with no predicted samples. Use `zero_division` parameter to control this behavior.\n",
      "  _warn_prf(average, modifier, msg_start, len(result))\n",
      "c:\\Navneet\\Data Science\\ML Projects\\WaferFaultDetection1\\venv\\lib\\site-packages\\sklearn\\metrics\\_classification.py:1471: UndefinedMetricWarning: Precision and F-score are ill-defined and being set to 0.0 in labels with no predicted samples. Use `zero_division` parameter to control this behavior.\n",
      "  _warn_prf(average, modifier, msg_start, len(result))\n"
     ]
    }
   ],
   "source": [
    "hyp_result = hyp_training(models,params)"
   ]
  },
  {
   "cell_type": "code",
   "execution_count": 222,
   "metadata": {},
   "outputs": [
    {
     "data": {
      "text/html": [
       "<div>\n",
       "<style scoped>\n",
       "    .dataframe tbody tr th:only-of-type {\n",
       "        vertical-align: middle;\n",
       "    }\n",
       "\n",
       "    .dataframe tbody tr th {\n",
       "        vertical-align: top;\n",
       "    }\n",
       "\n",
       "    .dataframe thead th {\n",
       "        text-align: right;\n",
       "    }\n",
       "</style>\n",
       "<table border=\"1\" class=\"dataframe\">\n",
       "  <thead>\n",
       "    <tr style=\"text-align: right;\">\n",
       "      <th></th>\n",
       "      <th>Random Forest</th>\n",
       "      <th>Decision Tree</th>\n",
       "      <th>Gradient Boosting</th>\n",
       "      <th>K-Neighbors Classifier</th>\n",
       "      <th>XGBClassifier</th>\n",
       "      <th>AdaBoost Classifier</th>\n",
       "    </tr>\n",
       "  </thead>\n",
       "  <tbody>\n",
       "    <tr>\n",
       "      <th>Train Accuracy</th>\n",
       "      <td>100.0</td>\n",
       "      <td>100.0</td>\n",
       "      <td>100.0</td>\n",
       "      <td>98.026316</td>\n",
       "      <td>100.0</td>\n",
       "      <td>100.0</td>\n",
       "    </tr>\n",
       "    <tr>\n",
       "      <th>Test Accuracy</th>\n",
       "      <td>50.0</td>\n",
       "      <td>47.222222</td>\n",
       "      <td>50.0</td>\n",
       "      <td>97.222222</td>\n",
       "      <td>50.0</td>\n",
       "      <td>50.0</td>\n",
       "    </tr>\n",
       "    <tr>\n",
       "      <th>ROC</th>\n",
       "      <td>50.0</td>\n",
       "      <td>47.222222</td>\n",
       "      <td>50.0</td>\n",
       "      <td>97.222222</td>\n",
       "      <td>50.0</td>\n",
       "      <td>50.0</td>\n",
       "    </tr>\n",
       "    <tr>\n",
       "      <th>Classification</th>\n",
       "      <td>precision    recall  f1-score   ...</td>\n",
       "      <td>precision    recall  f1-score   ...</td>\n",
       "      <td>precision    recall  f1-score   ...</td>\n",
       "      <td>precision    recall  f1-score   ...</td>\n",
       "      <td>precision    recall  f1-score   ...</td>\n",
       "      <td>precision    recall  f1-score   ...</td>\n",
       "    </tr>\n",
       "    <tr>\n",
       "      <th>Confusion</th>\n",
       "      <td>[[18, 0], [18, 0]]</td>\n",
       "      <td>[[17, 1], [18, 0]]</td>\n",
       "      <td>[[18, 0], [18, 0]]</td>\n",
       "      <td>[[17, 1], [0, 18]]</td>\n",
       "      <td>[[18, 0], [18, 0]]</td>\n",
       "      <td>[[18, 0], [18, 0]]</td>\n",
       "    </tr>\n",
       "  </tbody>\n",
       "</table>\n",
       "</div>"
      ],
      "text/plain": [
       "                                                    Random Forest  \\\n",
       "Train Accuracy                                              100.0   \n",
       "Test Accuracy                                                50.0   \n",
       "ROC                                                          50.0   \n",
       "Classification                precision    recall  f1-score   ...   \n",
       "Confusion                                      [[18, 0], [18, 0]]   \n",
       "\n",
       "                                                    Decision Tree  \\\n",
       "Train Accuracy                                              100.0   \n",
       "Test Accuracy                                           47.222222   \n",
       "ROC                                                     47.222222   \n",
       "Classification                precision    recall  f1-score   ...   \n",
       "Confusion                                      [[17, 1], [18, 0]]   \n",
       "\n",
       "                                                Gradient Boosting  \\\n",
       "Train Accuracy                                              100.0   \n",
       "Test Accuracy                                                50.0   \n",
       "ROC                                                          50.0   \n",
       "Classification                precision    recall  f1-score   ...   \n",
       "Confusion                                      [[18, 0], [18, 0]]   \n",
       "\n",
       "                                           K-Neighbors Classifier  \\\n",
       "Train Accuracy                                          98.026316   \n",
       "Test Accuracy                                           97.222222   \n",
       "ROC                                                     97.222222   \n",
       "Classification                precision    recall  f1-score   ...   \n",
       "Confusion                                      [[17, 1], [0, 18]]   \n",
       "\n",
       "                                                    XGBClassifier  \\\n",
       "Train Accuracy                                              100.0   \n",
       "Test Accuracy                                                50.0   \n",
       "ROC                                                          50.0   \n",
       "Classification                precision    recall  f1-score   ...   \n",
       "Confusion                                      [[18, 0], [18, 0]]   \n",
       "\n",
       "                                              AdaBoost Classifier  \n",
       "Train Accuracy                                              100.0  \n",
       "Test Accuracy                                                50.0  \n",
       "ROC                                                          50.0  \n",
       "Classification                precision    recall  f1-score   ...  \n",
       "Confusion                                      [[18, 0], [18, 0]]  "
      ]
     },
     "execution_count": 222,
     "metadata": {},
     "output_type": "execute_result"
    }
   ],
   "source": [
    "hyp_result"
   ]
  },
  {
   "cell_type": "code",
   "execution_count": 223,
   "metadata": {},
   "outputs": [
    {
     "name": "stdout",
     "output_type": "stream",
     "text": [
      "Train Accuracy: 98.02631578947368\n",
      "\n",
      "Test Accuracy: 97.22222222222221\n",
      "\n",
      "ROC: 97.22222222222221\n",
      "\n",
      "Classification:               precision    recall  f1-score   support\n",
      "\n",
      "           0       1.00      0.94      0.97        18\n",
      "           1       0.95      1.00      0.97        18\n",
      "\n",
      "    accuracy                           0.97        36\n",
      "   macro avg       0.97      0.97      0.97        36\n",
      "weighted avg       0.97      0.97      0.97        36\n",
      "\n",
      "\n",
      "Confusion: [[17  1]\n",
      " [ 0 18]]\n",
      "\n"
     ]
    }
   ],
   "source": [
    "# Display results for Best Model:\n",
    "for index, row in hyp_result.iterrows():\n",
    "    print(f\"{index}: {row['K-Neighbors Classifier']}\\n\")"
   ]
  },
  {
   "cell_type": "markdown",
   "metadata": {},
   "source": [
    "After Hyperparameter tunning we can acheived an max test accuracy of 97% which is fair enough good in comparison with previous accuracy of K_Nearest Neighbours model."
   ]
  },
  {
   "cell_type": "markdown",
   "metadata": {},
   "source": []
  }
 ],
 "metadata": {
  "kernelspec": {
   "display_name": "Python 3",
   "language": "python",
   "name": "python3"
  },
  "language_info": {
   "codemirror_mode": {
    "name": "ipython",
    "version": 3
   },
   "file_extension": ".py",
   "mimetype": "text/x-python",
   "name": "python",
   "nbconvert_exporter": "python",
   "pygments_lexer": "ipython3",
   "version": "3.8.0"
  }
 },
 "nbformat": 4,
 "nbformat_minor": 2
}
